{
  "nbformat": 4,
  "nbformat_minor": 0,
  "metadata": {
    "colab": {
      "provenance": [],
      "gpuType": "V28",
      "authorship_tag": "ABX9TyPnCLEkm/bXmsRqsVqRM7JE",
      "include_colab_link": true
    },
    "kernelspec": {
      "name": "python3",
      "display_name": "Python 3"
    },
    "language_info": {
      "name": "python"
    },
    "accelerator": "TPU"
  },
  "cells": [
    {
      "cell_type": "markdown",
      "metadata": {
        "id": "view-in-github",
        "colab_type": "text"
      },
      "source": [
        "<a href=\"https://colab.research.google.com/github/ROYXP/Bone-fracture-classifier-with-computer-vision/blob/main/Bone_Fracture_Classification.ipynb\" target=\"_parent\"><img src=\"https://colab.research.google.com/assets/colab-badge.svg\" alt=\"Open In Colab\"/></a>"
      ]
    },
    {
      "cell_type": "markdown",
      "source": [
        "## Computer vision model for identifying multi-region bone fracture\n",
        "\n",
        "* Data can be found on kagggle at: https://www.kaggle.com/datasets/bmadushanirodrigo/fracture-multi-region-x-ray-data?select=Bone_Fracture_Binary_Classification"
      ],
      "metadata": {
        "id": "uT5KOsERuWF-"
      }
    },
    {
      "cell_type": "markdown",
      "source": [
        "## Objective:\n",
        "\n",
        "This dataset comprises fractured and non-fractured X-ray images covering all anatomical body regions, including lower limb, upper limb, lumbar, hips, knees, etc. The dataset is categorized into train, test, and validation folders, each containing fractured and non-fractured radiographic images. The objective is to use deep learning in helping health professionals detect accurately bone fractures in X-ray generated images."
      ],
      "metadata": {
        "id": "z1mUEQG4ij3G"
      }
    },
    {
      "cell_type": "code",
      "source": [
        "# Importing libraries\n",
        "import pandas as pd\n",
        "import numpy as np\n",
        "import matplotlib.pyplot as plt\n",
        "import tensorflow as tf"
      ],
      "metadata": {
        "id": "NMdIn-LGi4Hk"
      },
      "execution_count": 1,
      "outputs": []
    },
    {
      "cell_type": "code",
      "source": [
        "# Loading in data from local machine storage\n",
        "from google.colab import drive\n",
        "drive.mount(\"/content/drive\")"
      ],
      "metadata": {
        "colab": {
          "base_uri": "https://localhost:8080/"
        },
        "id": "oVF7yi1NwoWW",
        "outputId": "50b15f9a-c52b-47da-f826-83f66cf8765f"
      },
      "execution_count": 3,
      "outputs": [
        {
          "output_type": "stream",
          "name": "stdout",
          "text": [
            "Mounted at /content/drive\n"
          ]
        }
      ]
    },
    {
      "cell_type": "code",
      "source": [
        "# Unzip the data\n",
        "\n",
        "import zipfile\n",
        "import os\n",
        "zip_ref = zipfile.ZipFile(\"/content/drive/MyDrive/Bone.zip\")\n",
        "zip_ref.extractall()\n",
        "zip_ref.close()"
      ],
      "metadata": {
        "id": "Y057n4L4xgVs"
      },
      "execution_count": 4,
      "outputs": []
    },
    {
      "cell_type": "code",
      "source": [
        "# Inspecting the data\n",
        "!ls /content/train"
      ],
      "metadata": {
        "colab": {
          "base_uri": "https://localhost:8080/"
        },
        "id": "1m9Jv2Bn4UOl",
        "outputId": "1b341744-f4b6-4dc0-de8a-fa0915de0e18"
      },
      "execution_count": 5,
      "outputs": [
        {
          "output_type": "stream",
          "name": "stdout",
          "text": [
            " fractured  'not fractured'\n"
          ]
        }
      ]
    },
    {
      "cell_type": "markdown",
      "source": [
        "### Visualizing the data"
      ],
      "metadata": {
        "id": "5_RX43bcj4yR"
      }
    },
    {
      "cell_type": "code",
      "source": [
        "import matplotlib.pyplot as plt\n",
        "import matplotlib.image as mpimg\n",
        "import random\n",
        "\n",
        "def view_random_image(target_dir, target_class):\n",
        "  # Setup the target directory (We'll view images from here)\n",
        "  target_folder = target_dir+target_class\n",
        "\n",
        "  # Get a random path\n",
        "  random_image = random.sample(os.listdir(target_folder), 1)\n",
        "  print(random_image)\n",
        "\n",
        "  # Read in the image and plot it using matplotlib\n",
        "  img = mpimg.imread(target_folder + \"/\" + random_image[0])\n",
        "  plt.imshow(img)\n",
        "  plt.title(target_class)\n",
        "  plt.axis(\"off\");\n",
        "\n",
        "  print(f\"Image shape: {img.shape}\") # Shows the shape of the image\n",
        "  return img"
      ],
      "metadata": {
        "id": "bUlUe5L2q8vY"
      },
      "execution_count": 7,
      "outputs": []
    },
    {
      "cell_type": "code",
      "source": [
        "# Visualizing the image\n",
        "plt.figure()\n",
        "plt.subplot(1, 2, 1)\n",
        "fractured_image = view_random_image(\"/content/train/\", \"fractured\")\n",
        "plt.subplot(1, 2, 2)\n",
        "not_fractured_image = view_random_image(\"/content/train/\", \"not fractured\")"
      ],
      "metadata": {
        "colab": {
          "base_uri": "https://localhost:8080/",
          "height": 353
        },
        "id": "iT6TBmbKlff5",
        "outputId": "0c1da2d3-0fb8-4bfe-fa89-7f43d5c20ae6"
      },
      "execution_count": 8,
      "outputs": [
        {
          "output_type": "stream",
          "name": "stdout",
          "text": [
            "['90-rotated3-rotated2-rotated1 - Copy.jpg']\n",
            "Image shape: (224, 224, 3)\n",
            "['65-rotated3-rotated1-rotated3.jpg']\n",
            "Image shape: (224, 224, 3)\n"
          ]
        },
        {
          "output_type": "display_data",
          "data": {
            "text/plain": [
              "<Figure size 640x480 with 2 Axes>"
            ],
            "image/png": "[encoded data removed]"
          },
          "metadata": {}
        }
      ]
    },
    {
      "cell_type": "markdown",
      "source": [
        "## Preprocessing"
      ],
      "metadata": {
        "id": "LWj9N8HOtNuo"
      }
    },
    {
      "cell_type": "code",
      "source": [
        "# Preprocessing the data\n",
        "\n",
        "train_dir = \"/content/train/\"\n",
        "val_dir = \"/content/val/\"\n",
        "test_dir = \"/content/test/\""
      ],
      "metadata": {
        "id": "tRDR542plNSR"
      },
      "execution_count": 9,
      "outputs": []
    },
    {
      "cell_type": "code",
      "source": [
        "# Turn data into batches & rescale\n",
        "from tensorflow.keras.preprocessing.image import ImageDataGenerator\n",
        "\n",
        "train_datagen = ImageDataGenerator(rescale=1/255.)\n",
        "val_datagen = ImageDataGenerator(rescale=1/255.)\n",
        "test_datagen = ImageDataGenerator(rescale=1/255.)"
      ],
      "metadata": {
        "id": "_9ZFRA2EsPzo"
      },
      "execution_count": 10,
      "outputs": []
    },
    {
      "cell_type": "code",
      "source": [
        "train_data = train_datagen.flow_from_directory(directory=train_dir,\n",
        "                                               batch_size=32,\n",
        "                                               target_size=(224, 224),\n",
        "                                               class_mode=\"binary\")\n",
        "\n",
        "val_data = val_datagen.flow_from_directory(directory=val_dir,\n",
        "                                           batch_size=32,\n",
        "                                           target_size=(224,224),\n",
        "                                           class_mode=\"binary\")\n",
        "\n",
        "test_data = test_datagen.flow_from_directory(directory=test_dir,\n",
        "                                             batch_size=32,\n",
        "                                             target_size=(224, 224),\n",
        "                                             class_mode=\"binary\")"
      ],
      "metadata": {
        "id": "e8jBYxVXs_VW",
        "colab": {
          "base_uri": "https://localhost:8080/"
        },
        "outputId": "c6a2505d-71c8-4e99-d046-f40fe0f0027e"
      },
      "execution_count": 11,
      "outputs": [
        {
          "output_type": "stream",
          "name": "stdout",
          "text": [
            "Found 9246 images belonging to 2 classes.\n",
            "Found 829 images belonging to 2 classes.\n",
            "Found 506 images belonging to 2 classes.\n"
          ]
        }
      ]
    },
    {
      "cell_type": "code",
      "source": [
        "# checking number of batches in train data\n",
        "len(train_data)"
      ],
      "metadata": {
        "id": "zDQRVuxMuCRg",
        "colab": {
          "base_uri": "https://localhost:8080/"
        },
        "outputId": "8f0ea1fe-dbd6-4740-8823-79fe6a9a4cfb"
      },
      "execution_count": 12,
      "outputs": [
        {
          "output_type": "execute_result",
          "data": {
            "text/plain": [
              "289"
            ]
          },
          "metadata": {},
          "execution_count": 12
        }
      ]
    },
    {
      "cell_type": "code",
      "source": [
        "# Get a sample of a train data batch\n",
        "images, labels = train_data.next() # Get the next batch of images/labels in train_data\n",
        "len(images), len(labels)"
      ],
      "metadata": {
        "id": "LWLvqDbkuRfo",
        "colab": {
          "base_uri": "https://localhost:8080/"
        },
        "outputId": "a5872367-a291-4c76-9ba1-bf254dd695fb"
      },
      "execution_count": 13,
      "outputs": [
        {
          "output_type": "execute_result",
          "data": {
            "text/plain": [
              "(32, 32)"
            ]
          },
          "metadata": {},
          "execution_count": 13
        }
      ]
    },
    {
      "cell_type": "code",
      "source": [
        "# Checking the shape of training data\n",
        "images[1].shape"
      ],
      "metadata": {
        "id": "nzDCulEquxnH",
        "colab": {
          "base_uri": "https://localhost:8080/"
        },
        "outputId": "356bb38c-496a-463a-a70d-8049e93e0661"
      },
      "execution_count": 14,
      "outputs": [
        {
          "output_type": "execute_result",
          "data": {
            "text/plain": [
              "(224, 224, 3)"
            ]
          },
          "metadata": {},
          "execution_count": 14
        }
      ]
    },
    {
      "cell_type": "markdown",
      "source": [
        "## Creating a baseline model with Convolutional Neural Network (CNN)"
      ],
      "metadata": {
        "id": "cVbKUMWHu6_I"
      }
    },
    {
      "cell_type": "code",
      "source": [
        "from tensorflow.keras.optimizers import Adam\n",
        "from tensorflow.keras.layers import Dense, Flatten, Activation, Conv2D, MaxPool2D\n",
        "from tensorflow.keras import Sequential\n",
        "import tensorflow as tf\n"
      ],
      "metadata": {
        "id": "UfLCKX_1vGkb"
      },
      "execution_count": 15,
      "outputs": []
    },
    {
      "cell_type": "code",
      "source": [
        "model_1 = tf.keras.Sequential([\n",
        "    tf.keras.layers.Conv2D(filters=10,\n",
        "                           kernel_size=3,\n",
        "                           padding=\"valid\",\n",
        "                           activation=\"relu\",\n",
        "                           input_shape=(224, 224, 3)),\n",
        "    Conv2D(10, 3, activation=\"relu\"),\n",
        "    Conv2D(10, 3, activation=\"relu\"),\n",
        "    Conv2D(10, 3, activation=\"relu\"),\n",
        "    tf.keras.layers.Flatten(),\n",
        "    tf.keras.layers.Dense(1, activation=\"sigmoid\")\n",
        "])\n",
        "\n",
        "model_1.compile(loss=\"binary_crossentropy\",\n",
        "                optimizer=tf.keras.optimizers.Adam(),\n",
        "                metrics=[\"accuracy\"])"
      ],
      "metadata": {
        "id": "iBz_pDBH_X1N"
      },
      "execution_count": 19,
      "outputs": []
    },
    {
      "cell_type": "code",
      "source": [
        "model_1.summary()"
      ],
      "metadata": {
        "colab": {
          "base_uri": "https://localhost:8080/"
        },
        "id": "60Av-oDY0uE1",
        "outputId": "430c9f3c-b0e8-4d87-f22d-1194c2fb8c04"
      },
      "execution_count": 20,
      "outputs": [
        {
          "output_type": "stream",
          "name": "stdout",
          "text": [
            "Model: \"sequential_1\"\n",
            "_________________________________________________________________\n",
            " Layer (type)                Output Shape              Param #   \n",
            "=================================================================\n",
            " conv2d_4 (Conv2D)           (None, 222, 222, 10)      280       \n",
            "                                                                 \n",
            " conv2d_5 (Conv2D)           (None, 220, 220, 10)      910       \n",
            "                                                                 \n",
            " conv2d_6 (Conv2D)           (None, 218, 218, 10)      910       \n",
            "                                                                 \n",
            " conv2d_7 (Conv2D)           (None, 216, 216, 10)      910       \n",
            "                                                                 \n",
            " flatten_1 (Flatten)         (None, 466560)            0         \n",
            "                                                                 \n",
            " dense_1 (Dense)             (None, 1)                 466561    \n",
            "                                                                 \n",
            "=================================================================\n",
            "Total params: 469571 (1.79 MB)\n",
            "Trainable params: 469571 (1.79 MB)\n",
            "Non-trainable params: 0 (0.00 Byte)\n",
            "_________________________________________________________________\n"
          ]
        }
      ]
    },
    {
      "cell_type": "code",
      "source": [
        "from PIL import ImageFile\n",
        "ImageFile.LOAD_TRUNCATED_IMAGES = True"
      ],
      "metadata": {
        "id": "P_5IY8df329u"
      },
      "execution_count": 22,
      "outputs": []
    },
    {
      "cell_type": "code",
      "source": [
        "# Fitting the model\n",
        "model_1_history = model_1.fit(train_data,\n",
        "                              epochs=5,\n",
        "                              steps_per_epoch=len(train_data),\n",
        "                              validation_data=val_data,\n",
        "                              validation_steps=len(val_data))"
      ],
      "metadata": {
        "colab": {
          "base_uri": "https://localhost:8080/"
        },
        "id": "MTbY-Gge0wYU",
        "outputId": "3f38f241-9aca-4b43-9490-a1268a6389f4"
      },
      "execution_count": 23,
      "outputs": [
        {
          "output_type": "stream",
          "name": "stdout",
          "text": [
            "Epoch 1/5\n",
            "289/289 [==============================] - ETA: 0s - loss: 0.1265 - accuracy: 0.9587"
          ]
        },
        {
          "output_type": "stream",
          "name": "stderr",
          "text": [
            "/usr/local/lib/python3.10/dist-packages/PIL/Image.py:1000: UserWarning: Palette images with Transparency expressed in bytes should be converted to RGBA images\n",
            "  warnings.warn(\n"
          ]
        },
        {
          "output_type": "stream",
          "name": "stdout",
          "text": [
            "\b\b\b\b\b\b\b\b\b\b\b\b\b\b\b\b\b\b\b\b\b\b\b\b\b\b\b\b\b\b\b\b\b\b\b\b\b\b\b\b\b\b\b\b\b\b\b\b\b\b\b\b\b\b\b\b\b\b\b\b\b\b\b\b\b\b\b\b\b\b\b\b\b\b\b\b\b\b\b\b\b\b\b\b\r289/289 [==============================] - 156s 541ms/step - loss: 0.1265 - accuracy: 0.9587 - val_loss: 0.1445 - val_accuracy: 0.9590\n",
            "Epoch 2/5\n",
            "289/289 [==============================] - 156s 538ms/step - loss: 0.0194 - accuracy: 0.9943 - val_loss: 0.1154 - val_accuracy: 0.9783\n",
            "Epoch 3/5\n",
            "289/289 [==============================] - 155s 535ms/step - loss: 0.0061 - accuracy: 0.9985 - val_loss: 0.1549 - val_accuracy: 0.9771\n",
            "Epoch 4/5\n",
            "289/289 [==============================] - 155s 536ms/step - loss: 0.0023 - accuracy: 0.9995 - val_loss: 0.1693 - val_accuracy: 0.9807\n",
            "Epoch 5/5\n",
            "289/289 [==============================] - 155s 537ms/step - loss: 0.0142 - accuracy: 0.9949 - val_loss: 0.1984 - val_accuracy: 0.9759\n"
          ]
        }
      ]
    },
    {
      "cell_type": "code",
      "source": [
        "# Plotting loss curves\n",
        "pd.DataFrame(model_1_history.history).plot(figsize=(10,7))\n",
        "plt.xlabel(\"epochs\");"
      ],
      "metadata": {
        "colab": {
          "base_uri": "https://localhost:8080/",
          "height": 619
        },
        "id": "OkGm_Y7A26m4",
        "outputId": "5723485d-cdb7-40bb-e1d9-cdce721fc792"
      },
      "execution_count": 25,
      "outputs": [
        {
          "output_type": "display_data",
          "data": {
            "text/plain": [
              "<Figure size 1000x700 with 1 Axes>"
            ],
            "image/png": "[encoded data removed]"
          },
          "metadata": {}
        }
      ]
    },
    {
      "cell_type": "code",
      "source": [
        "#Evaluating on the test data\n",
        "model_1.evaluate(test_data)"
      ],
      "metadata": {
        "colab": {
          "base_uri": "https://localhost:8080/"
        },
        "id": "__wXEbs471GL",
        "outputId": "225edbf2-f1b9-486a-e31b-070d58e2f24e"
      },
      "execution_count": 26,
      "outputs": [
        {
          "output_type": "stream",
          "name": "stdout",
          "text": [
            "16/16 [==============================] - 4s 263ms/step - loss: 0.0299 - accuracy: 0.9881\n"
          ]
        },
        {
          "output_type": "execute_result",
          "data": {
            "text/plain": [
              "[0.02990245446562767, 0.9881423115730286]"
            ]
          },
          "metadata": {},
          "execution_count": 26
        }
      ]
    },
    {
      "cell_type": "markdown",
      "source": [
        "### Our model has successfully achieved 97% accuracy on the validation data and 98% accuracy on the test data\n",
        "with an accuracy_score of 99% over 5 epochs.\n",
        "This shows:\n",
        "* The model is not overfitting\n",
        "* It generalizes well\n",
        "* It has achieved satisfactory result"
      ],
      "metadata": {
        "id": "GpyWcz5A8oSs"
      }
    },
    {
      "cell_type": "code",
      "source": [
        "# Saving the model\n",
        "\n",
        "model_1.save(\"bone_fracture_classifier\")"
      ],
      "metadata": {
        "id": "hp4JKqE__v_h"
      },
      "execution_count": 31,
      "outputs": []
    },
    {
      "cell_type": "code",
      "source": [
        "# Loading in checking saved model\n",
        "loaded_bone_model = tf.keras.models.load_model(\"bone_fracture_classifier\")\n",
        "loaded_bone_model.evaluate(test_data)"
      ],
      "metadata": {
        "colab": {
          "base_uri": "https://localhost:8080/"
        },
        "id": "4Ql1I9Db__d2",
        "outputId": "6e80df82-0554-44fd-8f12-2c0e7cc06151"
      },
      "execution_count": 33,
      "outputs": [
        {
          "output_type": "stream",
          "name": "stdout",
          "text": [
            "16/16 [==============================] - 4s 224ms/step - loss: 0.0299 - accuracy: 0.9881\n"
          ]
        },
        {
          "output_type": "execute_result",
          "data": {
            "text/plain": [
              "[0.029902450740337372, 0.9881423115730286]"
            ]
          },
          "metadata": {},
          "execution_count": 33
        }
      ]
    },
    {
      "cell_type": "code",
      "source": [],
      "metadata": {
        "id": "HeYjQXePAUFA"
      },
      "execution_count": null,
      "outputs": []
    }
  ]
}